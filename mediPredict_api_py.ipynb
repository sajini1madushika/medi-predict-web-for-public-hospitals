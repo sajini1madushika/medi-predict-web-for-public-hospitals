{
  "nbformat": 4,
  "nbformat_minor": 0,
  "metadata": {
    "colab": {
      "provenance": [],
      "authorship_tag": "ABX9TyMJMnHfbuRk/2+0j0VqVHes",
      "include_colab_link": true
    },
    "kernelspec": {
      "name": "python3",
      "display_name": "Python 3"
    },
    "language_info": {
      "name": "python"
    }
  },
  "cells": [
    {
      "cell_type": "markdown",
      "metadata": {
        "id": "view-in-github",
        "colab_type": "text"
      },
      "source": [
        "<a href=\"https://colab.research.google.com/github/sajini1madushika/medi-predict-web-for-public-hospitals/blob/main/mediPredict_api_py.ipynb\" target=\"_parent\"><img src=\"https://colab.research.google.com/assets/colab-badge.svg\" alt=\"Open In Colab\"/></a>"
      ]
    },
    {
      "cell_type": "code",
      "execution_count": 1,
      "metadata": {
        "colab": {
          "base_uri": "https://localhost:8080/"
        },
        "id": "sCoCTdDQYW2N",
        "outputId": "522ddfae-07b3-4246-cba3-961a59b9b694"
      },
      "outputs": [
        {
          "output_type": "stream",
          "name": "stdout",
          "text": [
            "Requirement already satisfied: fastapi in /usr/local/lib/python3.12/dist-packages (0.116.2)\n",
            "Requirement already satisfied: uvicorn in /usr/local/lib/python3.12/dist-packages (0.35.0)\n",
            "Requirement already satisfied: nest_asyncio in /usr/local/lib/python3.12/dist-packages (1.6.0)\n",
            "Collecting pyngrok\n",
            "  Downloading pyngrok-7.4.0-py3-none-any.whl.metadata (8.1 kB)\n",
            "Requirement already satisfied: python-multipart in /usr/local/lib/python3.12/dist-packages (0.0.20)\n",
            "Requirement already satisfied: joblib in /usr/local/lib/python3.12/dist-packages (1.5.2)\n",
            "Requirement already satisfied: pandas in /usr/local/lib/python3.12/dist-packages (2.2.2)\n",
            "Requirement already satisfied: starlette<0.49.0,>=0.40.0 in /usr/local/lib/python3.12/dist-packages (from fastapi) (0.48.0)\n",
            "Requirement already satisfied: pydantic!=1.8,!=1.8.1,!=2.0.0,!=2.0.1,!=2.1.0,<3.0.0,>=1.7.4 in /usr/local/lib/python3.12/dist-packages (from fastapi) (2.11.9)\n",
            "Requirement already satisfied: typing-extensions>=4.8.0 in /usr/local/lib/python3.12/dist-packages (from fastapi) (4.15.0)\n",
            "Requirement already satisfied: click>=7.0 in /usr/local/lib/python3.12/dist-packages (from uvicorn) (8.2.1)\n",
            "Requirement already satisfied: h11>=0.8 in /usr/local/lib/python3.12/dist-packages (from uvicorn) (0.16.0)\n",
            "Requirement already satisfied: PyYAML>=5.1 in /usr/local/lib/python3.12/dist-packages (from pyngrok) (6.0.2)\n",
            "Requirement already satisfied: numpy>=1.26.0 in /usr/local/lib/python3.12/dist-packages (from pandas) (2.0.2)\n",
            "Requirement already satisfied: python-dateutil>=2.8.2 in /usr/local/lib/python3.12/dist-packages (from pandas) (2.9.0.post0)\n",
            "Requirement already satisfied: pytz>=2020.1 in /usr/local/lib/python3.12/dist-packages (from pandas) (2025.2)\n",
            "Requirement already satisfied: tzdata>=2022.7 in /usr/local/lib/python3.12/dist-packages (from pandas) (2025.2)\n",
            "Requirement already satisfied: annotated-types>=0.6.0 in /usr/local/lib/python3.12/dist-packages (from pydantic!=1.8,!=1.8.1,!=2.0.0,!=2.0.1,!=2.1.0,<3.0.0,>=1.7.4->fastapi) (0.7.0)\n",
            "Requirement already satisfied: pydantic-core==2.33.2 in /usr/local/lib/python3.12/dist-packages (from pydantic!=1.8,!=1.8.1,!=2.0.0,!=2.0.1,!=2.1.0,<3.0.0,>=1.7.4->fastapi) (2.33.2)\n",
            "Requirement already satisfied: typing-inspection>=0.4.0 in /usr/local/lib/python3.12/dist-packages (from pydantic!=1.8,!=1.8.1,!=2.0.0,!=2.0.1,!=2.1.0,<3.0.0,>=1.7.4->fastapi) (0.4.1)\n",
            "Requirement already satisfied: six>=1.5 in /usr/local/lib/python3.12/dist-packages (from python-dateutil>=2.8.2->pandas) (1.17.0)\n",
            "Requirement already satisfied: anyio<5,>=3.6.2 in /usr/local/lib/python3.12/dist-packages (from starlette<0.49.0,>=0.40.0->fastapi) (4.10.0)\n",
            "Requirement already satisfied: idna>=2.8 in /usr/local/lib/python3.12/dist-packages (from anyio<5,>=3.6.2->starlette<0.49.0,>=0.40.0->fastapi) (3.10)\n",
            "Requirement already satisfied: sniffio>=1.1 in /usr/local/lib/python3.12/dist-packages (from anyio<5,>=3.6.2->starlette<0.49.0,>=0.40.0->fastapi) (1.3.1)\n",
            "Downloading pyngrok-7.4.0-py3-none-any.whl (25 kB)\n",
            "Installing collected packages: pyngrok\n",
            "Successfully installed pyngrok-7.4.0\n"
          ]
        }
      ],
      "source": [
        "!pip install fastapi uvicorn nest_asyncio pyngrok python-multipart joblib pandas\n"
      ]
    },
    {
      "cell_type": "code",
      "source": [
        "api_code = r\"\"\"\n",
        "# ==============================\n",
        "# MediPredict-SL Unified API\n",
        "# ==============================\n",
        "\n",
        "import uuid, sqlite3, json, os\n",
        "from fastapi import FastAPI, UploadFile, File\n",
        "from pydantic import BaseModel\n",
        "from datetime import datetime\n",
        "\n",
        "try:\n",
        "    import joblib, pandas as pd\n",
        "except:\n",
        "    joblib, pd = None, None\n",
        "\n",
        "app = FastAPI(title=\"MediPredict-SL API\")\n",
        "\n",
        "# ===== Database =====\n",
        "DB = \"patients.db\"\n",
        "conn = sqlite3.connect(DB, check_same_thread=False)\n",
        "cursor = conn.cursor()\n",
        "cursor.execute(\"CREATE TABLE IF NOT EXISTS patients (id TEXT PRIMARY KEY, name TEXT, age INTEGER, gender TEXT, created_at TEXT)\")\n",
        "cursor.execute(\"CREATE TABLE IF NOT EXISTS history (patient_id TEXT, report_json TEXT, created_at TEXT)\")\n",
        "conn.commit()\n",
        "\n",
        "# ===== ML Model (optional) =====\n",
        "ML_MODEL_PATH = \"xgb_chronic_disease_model.pkl\"\n",
        "FEATURES_PATH = \"feature_names.json\"\n",
        "ml_model, feature_names = None, []\n",
        "if joblib and os.path.exists(ML_MODEL_PATH) and os.path.exists(FEATURES_PATH):\n",
        "    try:\n",
        "        ml_model = joblib.load(ML_MODEL_PATH)\n",
        "        with open(FEATURES_PATH, \"r\") as f:\n",
        "            feature_names = json.load(f)\n",
        "    except:\n",
        "        ml_model = None\n",
        "\n",
        "# ===== Schemas =====\n",
        "class RegisterRequest(BaseModel):\n",
        "    name: str\n",
        "    age: int\n",
        "    gender: str\n",
        "\n",
        "class LabReport(BaseModel):\n",
        "    patient_id: str\n",
        "    fasting_glucose: float = None\n",
        "    random_glucose: float = None\n",
        "    hba1c: float = None\n",
        "    systolic: float = None\n",
        "    diastolic: float = None\n",
        "    total_chol: float = None\n",
        "    ldl: float = None\n",
        "    hdl: float = None\n",
        "    trig: float = None\n",
        "    creatinine: float = None\n",
        "    urea: float = None\n",
        "    egfr: float = None\n",
        "    ast: float = None\n",
        "    alt: float = None\n",
        "    tbil: float = None\n",
        "    notes: str = None\n",
        "\n",
        "# ===== Root & Health =====\n",
        "@app.get(\"/\")\n",
        "def root(): return {\"msg\": \"MediPredict API running\"}\n",
        "@app.get(\"/health\")\n",
        "def health(): return {\"ok\": True, \"ml_loaded\": ml_model is not None}\n",
        "\n",
        "# ===== Auth (mock) =====\n",
        "@app.post(\"/auth/login\")\n",
        "def login(payload: dict):\n",
        "    u, p = payload.get(\"username\"), payload.get(\"password\")\n",
        "    if u in [\"doctor\",\"pharmacist\",\"patient\",\"trainee\"] and p==\"pass\":\n",
        "        return {\"access_token\":\"fake-jwt\",\"role\":u,\n",
        "                \"user\":{\"id\":f\"{u[:1].upper()}-1001\",\"name\":u.title(),\"email\":f\"{u}@mediPredict.local\"}}\n",
        "    return {\"error\":\"Invalid credentials\"}\n",
        "\n",
        "# ===== Patients =====\n",
        "@app.post(\"/register\")\n",
        "def register(data: RegisterRequest):\n",
        "    pid = \"P-\" + str(uuid.uuid4())[:8]\n",
        "    cursor.execute(\"INSERT INTO patients VALUES (?,?,?,?,?)\",(pid,data.name,data.age,data.gender,datetime.utcnow().isoformat()))\n",
        "    conn.commit()\n",
        "    return {\"patient_id\": pid, \"qrCode\": pid}\n",
        "\n",
        "@app.get(\"/patients\")\n",
        "def get_patients():\n",
        "    cursor.execute(\"SELECT id,name,age,gender FROM patients\")\n",
        "    return [{\"id\":r[0],\"name\":r[1],\"age\":r[2],\"gender\":r[3],\"phone\":\"+94 71 000 0000\",\n",
        "             \"conditions\":[\"Diabetes\"],\"latestRiskScore\":0.5} for r in cursor.fetchall()]\n",
        "\n",
        "@app.get(\"/patients/{pid}\")\n",
        "def get_patient(pid: str):\n",
        "    cursor.execute(\"SELECT id,name,age,gender FROM patients WHERE id=?\",(pid,))\n",
        "    r = cursor.fetchone()\n",
        "    if not r: return {\"error\":\"Patient not found\"}\n",
        "    return {\"id\":r[0],\"name\":r[1],\"age\":r[2],\"gender\":r[3],\"phone\":\"+94 71 000 0000\",\n",
        "            \"conditions\":[\"Diabetes\"],\"qrCode\":r[0]}\n",
        "\n",
        "# ===== Visits / History =====\n",
        "@app.post(\"/predict_rules\")\n",
        "def predict_rules(report: LabReport):\n",
        "    flags=[]\n",
        "    if report.fasting_glucose and report.fasting_glucose>=126: flags.append(\"Diabetes Risk (FBS high)\")\n",
        "    if report.hba1c and report.hba1c>=6.5: flags.append(\"Diabetes Risk (HbA1c high)\")\n",
        "    if report.systolic and report.systolic>=140: flags.append(\"Hypertension Risk (Systolic high)\")\n",
        "    if report.diastolic and report.diastolic>=90: flags.append(\"Hypertension Risk (Diastolic high)\")\n",
        "    if report.total_chol and report.total_chol>=240: flags.append(\"Cholesterol Risk (High TC)\")\n",
        "    if report.ldl and report.ldl>=160: flags.append(\"Cholesterol Risk (High LDL)\")\n",
        "    if report.egfr and report.egfr<60: flags.append(\"CKD Risk (Low eGFR)\")\n",
        "    if report.creatinine and report.creatinine>1.2: flags.append(\"Kidney Risk (High Creatinine)\")\n",
        "    if report.ast and report.ast>40: flags.append(\"Liver Risk (AST high)\")\n",
        "    if report.alt and report.alt>40: flags.append(\"Liver Risk (ALT high)\")\n",
        "    if report.tbil and report.tbil>1.2: flags.append(\"Liver Risk (High Bilirubin)\")\n",
        "    cursor.execute(\"INSERT INTO history VALUES (?,?,?)\",(report.patient_id,json.dumps(report.dict()),datetime.utcnow().isoformat()))\n",
        "    conn.commit()\n",
        "    return {\"patient_id\":report.patient_id,\"flags\":flags,\"timestamp\":datetime.utcnow().isoformat()}\n",
        "\n",
        "@app.get(\"/history/{pid}\")\n",
        "def get_history(pid: str):\n",
        "    cursor.execute(\"SELECT report_json,created_at FROM history WHERE patient_id=?\",(pid,))\n",
        "    return {\"patient_id\":pid,\"history\":[{\"report\":json.loads(r),\"date\":d} for r,d in cursor.fetchall()]}\n",
        "\n",
        "@app.get(\"/patients/{pid}/visits\")\n",
        "def get_visits(pid: str):\n",
        "    cursor.execute(\"SELECT report_json,created_at FROM history WHERE patient_id=?\",(pid,))\n",
        "    rows=cursor.fetchall()\n",
        "    return [{\"id\":f\"V-{i+1}\",\"date\":d[:10],\"doctor\":\"Dr. Demo\",\"treatment\":\"Metformin 500mg\",\"riskScore\":0.7,\n",
        "             \"diabetes\":1,\"hypertension\":1,\"cholesterol\":0} for i,(r,d) in enumerate(rows)]\n",
        "\n",
        "# ===== Prescriptions =====\n",
        "@app.get(\"/patients/{pid}/prescriptions\")\n",
        "def get_prescriptions(pid: str):\n",
        "    return [{\"id\":\"RX-501\",\"drug\":\"Atorvastatin\",\"dose\":\"10mg\",\"status\":\"Pending\"},\n",
        "            {\"id\":\"RX-502\",\"drug\":\"Metformin\",\"dose\":\"500mg\",\"status\":\"Issued\"}]\n",
        "\n",
        "@app.put(\"/prescriptions/{rxid}\")\n",
        "def update_prescription(rxid: str, payload: dict):\n",
        "    return {\"id\":rxid,\"status\":payload.get(\"status\",\"Pending\")}\n",
        "\n",
        "# ===== QR Scan =====\n",
        "@app.get(\"/scan/{pid}\")\n",
        "def scan_qr(pid: str): return {\"pid\":pid,\"target\":f\"/doctor/{pid}\"}\n",
        "\n",
        "# ===== Reports =====\n",
        "@app.post(\"/patients/{pid}/reports\")\n",
        "def upload_report(pid: str, file: UploadFile = File(...)):\n",
        "    content=file.file.read()\n",
        "    fname=f\"report_{pid}_{file.filename}\"\n",
        "    with open(fname,\"wb\") as f: f.write(content)\n",
        "    return {\"patient_id\":pid,\"filename\":fname,\"status\":\"Uploaded\"}\n",
        "\n",
        "@app.get(\"/patients/{pid}/reports\")\n",
        "def get_reports(pid: str):\n",
        "    return [{\"filename\":\"lab_feb2025.pdf\",\"uploaded\":\"2025-02-20\"},\n",
        "            {\"filename\":\"ecg_apr2025.png\",\"uploaded\":\"2025-04-15\"}]\n",
        "\n",
        "# ===== ML Prediction =====\n",
        "@app.post(\"/predict_ml\")\n",
        "def predict_ml(report: LabReport):\n",
        "    if not ml_model: return {\"error\":\"ML model not loaded\"}\n",
        "    row={f:getattr(report,f,0) or 0 for f in feature_names}\n",
        "    df=pd.DataFrame([row])\n",
        "    pred=int(ml_model.predict(df)[0])\n",
        "    prob=float(ml_model.predict_proba(df)[0][1])\n",
        "    return {\"prediction\":pred,\"probability\":round(prob,3)}\n",
        "\"\"\"\n",
        "\n",
        "with open(\"mediPredict_api.py\", \"w\") as f:\n",
        "    f.write(api_code)\n",
        "print(\"✅ mediPredict_api.py created\")\n"
      ],
      "metadata": {
        "colab": {
          "base_uri": "https://localhost:8080/"
        },
        "id": "vBqH4_HhYntV",
        "outputId": "9530a74e-27d7-487d-a4d7-0b78c4971950"
      },
      "execution_count": 2,
      "outputs": [
        {
          "output_type": "stream",
          "name": "stdout",
          "text": [
            "✅ mediPredict_api.py created\n"
          ]
        }
      ]
    },
    {
      "cell_type": "code",
      "source": [
        "from pyngrok import ngrok\n",
        "\n",
        "# Paste your token here\n",
        "ngrok.set_auth_token(\"33FWiTdaE5gCJ0nchcNy2UalKAi_3MkjUUusuWJUSp6B1E2Jd\")\n"
      ],
      "metadata": {
        "id": "OQSsYLnXbt97"
      },
      "execution_count": 4,
      "outputs": []
    },
    {
      "cell_type": "code",
      "source": [
        "import nest_asyncio, uvicorn, threading\n",
        "\n",
        "nest_asyncio.apply()\n",
        "\n",
        "def run():\n",
        "    uvicorn.run(\"mediPredict_api:app\", host=\"0.0.0.0\", port=8000)\n",
        "\n",
        "thread = threading.Thread(target=run, daemon=True)\n",
        "thread.start()\n",
        "\n",
        "public_url = ngrok.connect(8000)\n",
        "print(\"🌍 Public URL:\", public_url)\n"
      ],
      "metadata": {
        "colab": {
          "base_uri": "https://localhost:8080/"
        },
        "id": "kLwR2XJjYqeQ",
        "outputId": "95cbd764-194c-472c-b982-7ccae96e0fda"
      },
      "execution_count": 5,
      "outputs": [
        {
          "output_type": "stream",
          "name": "stderr",
          "text": [
            "INFO:     Started server process [389]\n",
            "INFO:     Waiting for application startup.\n",
            "INFO:     Application startup complete.\n",
            "ERROR:    [Errno 98] error while attempting to bind on address ('0.0.0.0', 8000): [errno 98] address already in use\n",
            "INFO:     Waiting for application shutdown.\n",
            "INFO:     Application shutdown complete.\n"
          ]
        },
        {
          "output_type": "stream",
          "name": "stdout",
          "text": [
            "🌍 Public URL: NgrokTunnel: \"https://reemergent-exultantly-felecia.ngrok-free.dev\" -> \"http://localhost:8000\"\n"
          ]
        }
      ]
    },
    {
      "cell_type": "code",
      "source": [
        "import requests\n",
        "\n",
        "BASE = \"https://reemergent-exultantly-felecia.ngrok-free.dev\"\n",
        "\n",
        "# Health check\n",
        "print(\"Health:\", requests.get(BASE + \"/health\").json())\n",
        "\n",
        "# Register a patient\n",
        "reg = requests.post(BASE + \"/register\", json={\"name\":\"Test Patient\",\"age\":45,\"gender\":\"M\"}).json()\n",
        "print(\"Register:\", reg)\n",
        "\n",
        "pid = reg[\"patient_id\"]\n",
        "\n",
        "# Predict rules\n",
        "payload = {\"patient_id\": pid, \"fasting_glucose\": 145, \"hba1c\": 7.2, \"systolic\": 150}\n",
        "print(\"Predict rules:\", requests.post(BASE + \"/predict_rules\", json=payload).json())\n",
        "\n",
        "# History\n",
        "print(\"History:\", requests.get(BASE + f\"/history/{pid}\").json())\n"
      ],
      "metadata": {
        "colab": {
          "base_uri": "https://localhost:8080/"
        },
        "id": "ObVlwEnMb7SN",
        "outputId": "afac08c8-8882-4ef0-9afd-0b7da0827038"
      },
      "execution_count": 6,
      "outputs": [
        {
          "output_type": "stream",
          "name": "stderr",
          "text": [
            "ERROR:asyncio:Task exception was never retrieved\n",
            "future: <Task finished name='Task-4' coro=<Server.serve() done, defined at /usr/local/lib/python3.12/dist-packages/uvicorn/server.py:69> exception=SystemExit(1)>\n",
            "Traceback (most recent call last):\n",
            "  File \"/usr/local/lib/python3.12/dist-packages/uvicorn/server.py\", line 164, in startup\n",
            "    server = await loop.create_server(\n",
            "             ^^^^^^^^^^^^^^^^^^^^^^^^^\n",
            "  File \"/usr/lib/python3.12/asyncio/base_events.py\", line 1584, in create_server\n",
            "    raise OSError(err.errno, msg) from None\n",
            "OSError: [Errno 98] error while attempting to bind on address ('0.0.0.0', 8000): [errno 98] address already in use\n",
            "\n",
            "During handling of the above exception, another exception occurred:\n",
            "\n",
            "Traceback (most recent call last):\n",
            "  File \"/usr/lib/python3.12/threading.py\", line 1075, in _bootstrap_inner\n",
            "    self.run()\n",
            "  File \"/usr/lib/python3.12/threading.py\", line 1012, in run\n",
            "    self._target(*self._args, **self._kwargs)\n",
            "  File \"/tmp/ipython-input-3496511139.py\", line 6, in run\n",
            "    uvicorn.run(\"mediPredict_api:app\", host=\"0.0.0.0\", port=8000)\n",
            "  File \"/usr/local/lib/python3.12/dist-packages/uvicorn/main.py\", line 580, in run\n",
            "    server.run()\n",
            "  File \"/usr/local/lib/python3.12/dist-packages/uvicorn/server.py\", line 67, in run\n",
            "    return asyncio.run(self.serve(sockets=sockets))\n",
            "           ^^^^^^^^^^^^^^^^^^^^^^^^^^^^^^^^^^^^^^^^\n",
            "  File \"/usr/local/lib/python3.12/dist-packages/nest_asyncio.py\", line 30, in run\n",
            "    return loop.run_until_complete(task)\n",
            "           ^^^^^^^^^^^^^^^^^^^^^^^^^^^^^\n",
            "  File \"/usr/local/lib/python3.12/dist-packages/nest_asyncio.py\", line 92, in run_until_complete\n",
            "    self._run_once()\n",
            "  File \"/usr/local/lib/python3.12/dist-packages/nest_asyncio.py\", line 133, in _run_once\n",
            "    handle._run()\n",
            "  File \"/usr/lib/python3.12/asyncio/events.py\", line 88, in _run\n",
            "    self._context.run(self._callback, *self._args)\n",
            "  File \"/usr/lib/python3.12/asyncio/tasks.py\", line 396, in __wakeup\n",
            "    self.__step()\n",
            "  File \"/usr/lib/python3.12/asyncio/tasks.py\", line 303, in __step\n",
            "    self.__step_run_and_handle_result(exc)\n",
            "  File \"/usr/lib/python3.12/asyncio/tasks.py\", line 314, in __step_run_and_handle_result\n",
            "    result = coro.send(None)\n",
            "             ^^^^^^^^^^^^^^^\n",
            "  File \"/usr/local/lib/python3.12/dist-packages/uvicorn/server.py\", line 71, in serve\n",
            "    await self._serve(sockets)\n",
            "  File \"/usr/local/lib/python3.12/dist-packages/uvicorn/server.py\", line 86, in _serve\n",
            "    await self.startup(sockets=sockets)\n",
            "  File \"/usr/local/lib/python3.12/dist-packages/uvicorn/server.py\", line 174, in startup\n",
            "    sys.exit(1)\n",
            "SystemExit: 1\n"
          ]
        },
        {
          "output_type": "stream",
          "name": "stdout",
          "text": [
            "INFO:     34.42.141.38:0 - \"GET /health HTTP/1.1\" 200 OK\n",
            "Health: {'ok': True, 'ml_loaded': False}\n",
            "INFO:     34.42.141.38:0 - \"POST /register HTTP/1.1\" 200 OK\n",
            "Register: {'patient_id': 'P-1e823d03', 'qrCode': 'P-1e823d03'}\n",
            "INFO:     34.42.141.38:0 - \"POST /predict_rules HTTP/1.1\" 200 OK\n",
            "Predict rules: {'patient_id': 'P-1e823d03', 'flags': ['Diabetes Risk (FBS high)', 'Diabetes Risk (HbA1c high)', 'Hypertension Risk (Systolic high)'], 'timestamp': '2025-09-26T19:13:29.885257'}\n",
            "INFO:     34.42.141.38:0 - \"GET /history/P-1e823d03 HTTP/1.1\" 200 OK\n",
            "History: {'patient_id': 'P-1e823d03', 'history': [{'report': {'patient_id': 'P-1e823d03', 'fasting_glucose': 145.0, 'random_glucose': None, 'hba1c': 7.2, 'systolic': 150.0, 'diastolic': None, 'total_chol': None, 'ldl': None, 'hdl': None, 'trig': None, 'creatinine': None, 'urea': None, 'egfr': None, 'ast': None, 'alt': None, 'tbil': None, 'notes': None}, 'date': '2025-09-26T19:13:29.867027'}]}\n"
          ]
        }
      ]
    }
  ]
}